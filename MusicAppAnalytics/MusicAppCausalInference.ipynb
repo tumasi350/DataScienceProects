{
 "cells": [
  {
   "cell_type": "markdown",
   "metadata": {},
   "source": [
    "## Causal Inference Music App Personalization Use Case (Simulated Data)"
   ]
  },
  {
   "cell_type": "markdown",
   "metadata": {},
   "source": [
    " Want to Answer the question: \"Does receiving personalized recommendations increase the hours of content consumed?\"\n",
    " \n",
    "Need to simulate a dataset that includes the relevant variables, define the causal model, and then use DoWhy to estimate the causal effect."
   ]
  },
  {
   "cell_type": "markdown",
   "metadata": {},
   "source": [
    "## 0. Libraries"
   ]
  },
  {
   "cell_type": "code",
   "execution_count": 1,
   "metadata": {},
   "outputs": [],
   "source": [
    "import warnings\n",
    "\n",
    "\n",
    "warnings.filterwarnings(\n",
    "    \"ignore\",\n",
    "    category=UserWarning,\n",
    "    message=\"Pandas requires version '2.8.4' or newer of 'numexpr'\"\n",
    ")\n",
    "\n",
    "warnings.filterwarnings(\n",
    "    \"ignore\",\n",
    "    category=UserWarning,\n",
    "    message=\"Pandas requires version '1.3.6' or newer of 'bottleneck'\"\n",
    ")\n",
    "\n",
    "warnings.filterwarnings(\"ignore\")\n"
   ]
  },
  {
   "cell_type": "code",
   "execution_count": 2,
   "metadata": {},
   "outputs": [],
   "source": [
    "import numpy as np\n",
    "import pandas as pd\n",
    "import dowhy\n",
    "from dowhy import CausalModel\n",
    "import dowhy.datasets\n",
    "import statsmodels.api as sm\n"
   ]
  },
  {
   "cell_type": "markdown",
   "metadata": {},
   "source": [
    "## 1. Simulating Dataset\n",
    "# Variable Table\n",
    "\n",
    "DoWhy assigns the following labels:\n",
    "\n",
    "| Label | Variable                                | Type       | Description                                          |\n",
    "|-------|------------------------------------------|------------|------------------------------------------------------|\n",
    "| v0    | Personalized Recommendation              | Binary     | Whether the user received personalized recommendations |\n",
    "| y     | Hours of Content Consumed                | Continuous | Total hours of music or podcasts consumed in a month |\n",
    "| W0    | User Engagement Level                    | Continuous | Level of user engagement based on previous interactions |\n",
    "| W1    | Preferred Content Type                   | Categorical| Preferred content type (Music, Podcasts, Both)       |\n",
    "| Z0    | New Feature Exposure                     | Binary     | Whether the user was exposed to a new feature        |\n"
   ]
  },
  {
   "cell_type": "code",
   "execution_count": 3,
   "metadata": {},
   "outputs": [
    {
     "data": {
      "text/html": [
       "<div>\n",
       "<style scoped>\n",
       "    .dataframe tbody tr th:only-of-type {\n",
       "        vertical-align: middle;\n",
       "    }\n",
       "\n",
       "    .dataframe tbody tr th {\n",
       "        vertical-align: top;\n",
       "    }\n",
       "\n",
       "    .dataframe thead th {\n",
       "        text-align: right;\n",
       "    }\n",
       "</style>\n",
       "<table border=\"1\" class=\"dataframe\">\n",
       "  <thead>\n",
       "    <tr style=\"text-align: right;\">\n",
       "      <th></th>\n",
       "      <th>NewFeatureExposure</th>\n",
       "      <th>UserEngagementLevel</th>\n",
       "      <th>PreferredContentType</th>\n",
       "      <th>PersonalizedRecommendation</th>\n",
       "      <th>HoursOfContentConsumed</th>\n",
       "    </tr>\n",
       "  </thead>\n",
       "  <tbody>\n",
       "    <tr>\n",
       "      <th>0</th>\n",
       "      <td>1.0</td>\n",
       "      <td>0.815746</td>\n",
       "      <td>1</td>\n",
       "      <td>True</td>\n",
       "      <td>1.239901</td>\n",
       "    </tr>\n",
       "    <tr>\n",
       "      <th>1</th>\n",
       "      <td>1.0</td>\n",
       "      <td>-1.337550</td>\n",
       "      <td>3</td>\n",
       "      <td>True</td>\n",
       "      <td>0.744240</td>\n",
       "    </tr>\n",
       "    <tr>\n",
       "      <th>2</th>\n",
       "      <td>0.0</td>\n",
       "      <td>0.242627</td>\n",
       "      <td>1</td>\n",
       "      <td>False</td>\n",
       "      <td>0.103663</td>\n",
       "    </tr>\n",
       "    <tr>\n",
       "      <th>3</th>\n",
       "      <td>1.0</td>\n",
       "      <td>-0.601265</td>\n",
       "      <td>0</td>\n",
       "      <td>True</td>\n",
       "      <td>0.835885</td>\n",
       "    </tr>\n",
       "    <tr>\n",
       "      <th>4</th>\n",
       "      <td>0.0</td>\n",
       "      <td>0.533075</td>\n",
       "      <td>3</td>\n",
       "      <td>True</td>\n",
       "      <td>1.251280</td>\n",
       "    </tr>\n",
       "    <tr>\n",
       "      <th>...</th>\n",
       "      <td>...</td>\n",
       "      <td>...</td>\n",
       "      <td>...</td>\n",
       "      <td>...</td>\n",
       "      <td>...</td>\n",
       "    </tr>\n",
       "    <tr>\n",
       "      <th>9995</th>\n",
       "      <td>1.0</td>\n",
       "      <td>-2.336268</td>\n",
       "      <td>0</td>\n",
       "      <td>False</td>\n",
       "      <td>-0.624420</td>\n",
       "    </tr>\n",
       "    <tr>\n",
       "      <th>9996</th>\n",
       "      <td>0.0</td>\n",
       "      <td>-0.233660</td>\n",
       "      <td>2</td>\n",
       "      <td>False</td>\n",
       "      <td>-0.002521</td>\n",
       "    </tr>\n",
       "    <tr>\n",
       "      <th>9997</th>\n",
       "      <td>1.0</td>\n",
       "      <td>0.574463</td>\n",
       "      <td>0</td>\n",
       "      <td>False</td>\n",
       "      <td>0.162201</td>\n",
       "    </tr>\n",
       "    <tr>\n",
       "      <th>9998</th>\n",
       "      <td>0.0</td>\n",
       "      <td>-0.483438</td>\n",
       "      <td>1</td>\n",
       "      <td>False</td>\n",
       "      <td>-0.089287</td>\n",
       "    </tr>\n",
       "    <tr>\n",
       "      <th>9999</th>\n",
       "      <td>1.0</td>\n",
       "      <td>-1.840486</td>\n",
       "      <td>0</td>\n",
       "      <td>True</td>\n",
       "      <td>0.511519</td>\n",
       "    </tr>\n",
       "  </tbody>\n",
       "</table>\n",
       "<p>10000 rows × 5 columns</p>\n",
       "</div>"
      ],
      "text/plain": [
       "      NewFeatureExposure  UserEngagementLevel PreferredContentType  \\\n",
       "0                    1.0             0.815746                    1   \n",
       "1                    1.0            -1.337550                    3   \n",
       "2                    0.0             0.242627                    1   \n",
       "3                    1.0            -0.601265                    0   \n",
       "4                    0.0             0.533075                    3   \n",
       "...                  ...                  ...                  ...   \n",
       "9995                 1.0            -2.336268                    0   \n",
       "9996                 0.0            -0.233660                    2   \n",
       "9997                 1.0             0.574463                    0   \n",
       "9998                 0.0            -0.483438                    1   \n",
       "9999                 1.0            -1.840486                    0   \n",
       "\n",
       "      PersonalizedRecommendation  HoursOfContentConsumed  \n",
       "0                           True                1.239901  \n",
       "1                           True                0.744240  \n",
       "2                          False                0.103663  \n",
       "3                           True                0.835885  \n",
       "4                           True                1.251280  \n",
       "...                          ...                     ...  \n",
       "9995                       False               -0.624420  \n",
       "9996                       False               -0.002521  \n",
       "9997                       False                0.162201  \n",
       "9998                       False               -0.089287  \n",
       "9999                        True                0.511519  \n",
       "\n",
       "[10000 rows x 5 columns]"
      ]
     },
     "execution_count": 3,
     "metadata": {},
     "output_type": "execute_result"
    }
   ],
   "source": [
    "# Set seed to enable exact replication\n",
    "np.random.seed(1234)\n",
    "\n",
    "# Simulate sample data\n",
    "data = dowhy.datasets.linear_dataset(\n",
    "    beta=1,\n",
    "    num_common_causes=2,\n",
    "    num_discrete_common_causes=1,\n",
    "    num_instruments=1,\n",
    "    num_samples=10000,\n",
    "    treatment_is_binary=True\n",
    ")\n",
    "\n",
    "# Extract the dataframe\n",
    "df = data['df']\n",
    "# Assign descriptive labels to the variables just for viewing (optional)\n",
    "\n",
    "df.rename(columns={\n",
    "    'v0': 'PersonalizedRecommendation',\n",
    "    'y': 'HoursOfContentConsumed',\n",
    "    'W0': 'UserEngagementLevel',\n",
    "    'W1': 'PreferredContentType',\n",
    "    'Z0': 'NewFeatureExposure'\n",
    "}, inplace=True)\n",
    "\n",
    "df"
   ]
  },
  {
   "cell_type": "markdown",
   "metadata": {},
   "source": [
    "## 2. Initialzing a Causal Model\n",
    "\n",
    "Here we set up the causal model using the DoWhy library with the dataset df, specifying the treatment, outcome, and graph. This allows us to analyze causal relationships within the data.\n",
    "\n",
    "\n",
    "\n",
    "\n",
    "\n",
    "\n",
    "\n"
   ]
  },
  {
   "cell_type": "code",
   "execution_count": 4,
   "metadata": {},
   "outputs": [],
   "source": [
    "# Create the causal model\n",
    "causal_graph = \"\"\"\n",
    "digraph {\n",
    "    PersonalizedRecommendation -> HoursOfContentConsumed;\n",
    "    UserEngagementLevel -> PersonalizedRecommendation;\n",
    "    PreferredContentType -> PersonalizedRecommendation;\n",
    "    NewFeatureExposure -> PersonalizedRecommendation;\n",
    "    UserEngagementLevel -> HoursOfContentConsumed;\n",
    "    PreferredContentType -> HoursOfContentConsumed;\n",
    "}\n",
    "\"\"\""
   ]
  },
  {
   "cell_type": "code",
   "execution_count": 5,
   "metadata": {},
   "outputs": [],
   "source": [
    "model = CausalModel(\n",
    "    data=df,\n",
    "    treatment='PersonalizedRecommendation',\n",
    "    outcome='HoursOfContentConsumed',\n",
    "    graph=causal_graph\n",
    ")"
   ]
  },
  {
   "cell_type": "markdown",
   "metadata": {},
   "source": [
    "## 3. Benchmarking with Naive Regression\n",
    "Before carrying out our causal analysis, we benchmark it using a naive approach with a simple linear prediction algorithm."
   ]
  },
  {
   "cell_type": "code",
   "execution_count": 6,
   "metadata": {},
   "outputs": [
    {
     "name": "stdout",
     "output_type": "stream",
     "text": [
      "==============================================================================================\n",
      "                                 coef    std err          t      P>|t|      [0.025      0.975]\n",
      "----------------------------------------------------------------------------------------------\n",
      "const                         -0.2155      0.005    -45.413      0.000      -0.225      -0.206\n",
      "PersonalizedRecommendation     1.1475      0.006    202.933      0.000       1.136       1.159\n",
      "==============================================================================================\n"
     ]
    }
   ],
   "source": [
    "# linear regression of column y on v0 in df\n",
    "import statsmodels.api as sm\n",
    "\n",
    "# Linear regression of column y on v0 in df\n",
    "X = df['PersonalizedRecommendation'].astype(float)\n",
    "y = df['HoursOfContentConsumed'].astype(float)\n",
    "\n",
    "X = sm.add_constant(X)\n",
    "\n",
    "ols = sm.OLS(y, X).fit()\n",
    "\n",
    "# Display a more parsimonious results summary\n",
    "print(ols.summary().tables[1])"
   ]
  },
  {
   "cell_type": "markdown",
   "metadata": {},
   "source": [
    "The slope coefficient in a bivariate regression is 1.1475. However, the true causal effect is one, as we generated the data this way. \n",
    "\n",
    "This implies that user engagement level and preferred content type, which influence content consumption and the likelihood of receiving personalized recommendations, lead to an overestimation of about 15%.\n",
    "\n",
    " We can address this bias by including these variables in a multivariate analysis. Known as the backdoor criterion in causal AI, this controls for all variables in the causal graph that point into the treatment variable.\n",
    "\n"
   ]
  },
  {
   "cell_type": "markdown",
   "metadata": {},
   "source": [
    "## 4. Determining Casual Estimate\n",
    "After identifying the causal effect, we use DoWhy to estimate it.\n",
    "\n"
   ]
  },
  {
   "cell_type": "code",
   "execution_count": 7,
   "metadata": {},
   "outputs": [
    {
     "name": "stdout",
     "output_type": "stream",
     "text": [
      "Causal effect estimate: 0.9995726986001225\n"
     ]
    }
   ],
   "source": [
    "# Check whether causal effect is identified and return target estimands\n",
    "identified_estimand = model.identify_effect()\n",
    "\n",
    "# Estimate the causal effect using inverse probability weighting\n",
    "estimate = model.estimate_effect(identified_estimand, method_name=\"backdoor.propensity_score_weighting\")\n",
    "\n",
    "# Access and print the estimated effect value\n",
    "causal_effect_value = estimate.value\n",
    "print(\"Causal effect estimate:\", causal_effect_value)\n",
    "\n"
   ]
  },
  {
   "cell_type": "markdown",
   "metadata": {},
   "source": [
    "The estimated causal effect of receiving personalized recommendations on the hours of content consumed is approximately 0.9996. This means that personalized recommendations nearly double the amount of content consumed by users. The estimate is very close to 1, which aligns with the true causal effect we set when generating the data. This indicates that our model accurately captures the causal relationship between personalized recommendations and content consumption, effectively reducing the bias seen in the naive regression model.\n",
    "\n",
    "By including user engagement level and preferred content type as common causes and using new feature exposure as an instrumental variable, we addressed potential confounding factors. The high accuracy of our causal effect estimate demonstrates the strength of using DoWhy for causal inference in this context."
   ]
  },
  {
   "cell_type": "markdown",
   "metadata": {},
   "source": [
    "## 5. Comparing Bias Reduction\n",
    "After estimating the causal effect using DoWhy, we compare it with the naive regression estimate to see the reduction in bias."
   ]
  },
  {
   "cell_type": "code",
   "execution_count": 8,
   "metadata": {},
   "outputs": [
    {
     "name": "stdout",
     "output_type": "stream",
     "text": [
      "Causal effect estimate: 0.9995726986001225\n",
      "Percentage reduction in bias: 99.71%\n"
     ]
    }
   ],
   "source": [
    "# Original regression estimate\n",
    "original_regression_estimate = 1.1475\n",
    "# True causal effect\n",
    "true_causal_effect = 1.0\n",
    "# Causal estimate from DoWhy\n",
    "causal_estimate_value = estimate.value\n",
    "\n",
    "# Calculate the original regression bias\n",
    "original_regression_bias = original_regression_estimate - true_causal_effect\n",
    "\n",
    "# Calculate the causal estimate bias\n",
    "causal_estimate_bias = causal_estimate_value - true_causal_effect\n",
    "\n",
    "# Calculate the percentage reduction in bias\n",
    "percentage_reduction = (1 - abs(causal_estimate_bias) / abs(original_regression_bias)) * 100\n",
    "\n",
    "# Print the result\n",
    "print(f\"Causal effect estimate: {causal_estimate_value}\")\n",
    "print(f\"Percentage reduction in bias: {percentage_reduction:.2f}%\")\n"
   ]
  },
  {
   "cell_type": "markdown",
   "metadata": {},
   "source": [
    "By comparing the naive regression estimate and the causal estimate, we can understand how much the bias has been reduced. The naive regression estimate was 1.1475, while the true causal effect is 1.0. Our causal estimate from DoWhy is approximately 0.9996."
   ]
  },
  {
   "cell_type": "markdown",
   "metadata": {},
   "source": [
    "## 5. Stress Testing / Sensitivity Analysis\n",
    "After obtaining the causal effect estimate, we should check its sensitivity to unobserved confounders to ensure the robustness of our results."
   ]
  },
  {
   "cell_type": "code",
   "execution_count": 9,
   "metadata": {},
   "outputs": [
    {
     "data": {
      "image/png": "[encoded data removed]",
      "text/plain": [
       "<Figure size 432x360 with 2 Axes>"
      ]
     },
     "metadata": {
      "needs_background": "light"
     },
     "output_type": "display_data"
    },
    {
     "name": "stdout",
     "output_type": "stream",
     "text": [
      "Refute: Add an Unobserved Common Cause\n",
      "Estimated effect:0.9995726986001225\n",
      "New effect:(-0.27126448258060853, 0.8814522838407693)\n",
      "\n"
     ]
    }
   ],
   "source": [
    "# Check sensitivity of obtained estimate to unobserved confounders\n",
    "refute_results = model.refute_estimate(identified_estimand, estimate, method_name=\"add_unobserved_common_cause\")\n",
    "\n",
    "# Print the refutation results\n",
    "print(refute_results)"
   ]
  },
  {
   "cell_type": "markdown",
   "metadata": {},
   "source": [
    "The sensitivity analysis helps to understand how robust our causal effect estimate is to the potential presence of unobserved confounders. By adding an unobserved common cause, we can see if the estimated effect remains consistent. If the estimate changes significantly, it suggests that unobserved confounders might be affecting our results.\n",
    "\n",
    "The graph shows how unobserved common causes affect the estimated causal effect, with values ranging from -0.271 to 0.881. This wide range indicates that unobserved variables can significantly distort the causal effect estimate. It's a warning to carefully identify and control relevant variables to ensure accurate results."
   ]
  },
  {
   "cell_type": "markdown",
   "metadata": {},
   "source": [
    "## 6. Alternative Causal Strategies\n",
    "There is another way to achieve identification with DoWhy: the instrumental variable.\n",
    "\n",
    "Even though user engagement and preferred content types influence how much content users consume, there might be other factors affecting content consumption that aren't directly related to personalized recommendations.\n",
    "\n",
    "For example, let's say we introduced a major new feature on the app, and some users were exposed to this feature while others were not. Users exposed to the new feature were more likely to engage with personalized recommendations, even if they would have otherwise followed their usual listening habits.\n",
    "\n",
    "In this case, the new feature exposure acts as an instrumental variable.\n",
    "\n",
    "Intuitively, the new feature acts as a shock to users’ engagement patterns, creating a natural experiment.\n",
    "\n",
    "For a certain period, users exposed to the new feature will interact more with personalized recommendations, but this has no other relation to their usual content consumption patterns. You may have noticed that we already included such an instrumental variable, NewFeatureExposure, in the simulated dataset by setting the option num_instruments=1. DoWhy’s identify_effect() function automatically finds suitable instrumental variables for us in the causal graph."
   ]
  },
  {
   "cell_type": "code",
   "execution_count": 10,
   "metadata": {},
   "outputs": [
    {
     "name": "stdout",
     "output_type": "stream",
     "text": [
      "Alternate Causal effect estimate: 0.9778090511178422\n"
     ]
    }
   ],
   "source": [
    "# Estimate the causal effect using instrumental variable method\n",
    "iv_estimate = model.estimate_effect(identified_estimand, method_name=\"iv.instrumental_variable\")\n",
    "\n",
    "# Access and print the estimated effect value\n",
    "causal_effect_value_alt = iv_estimate.value\n",
    "print(\"Alternate Causal effect estimate:\", causal_effect_value_alt)\n"
   ]
  },
  {
   "cell_type": "markdown",
   "metadata": {},
   "source": [
    "The alternate causal effect estimate using the instrumental variable method is  0.9778. This is slightly less accurate than the backdoor strategy but still much more accurate than the naive prediction.\n",
    "\n",
    "Instrumental variable estimation is beneficial because it doesn't rely on assumptions about unobserved common causes.\n",
    "\n",
    "Although the estimates may be less precise, they are more robust due to weaker assumptions. This is a common trade-off in causal analysis."
   ]
  },
  {
   "cell_type": "markdown",
   "metadata": {},
   "source": []
  }
 ],
 "metadata": {
  "kernelspec": {
   "display_name": "py3.12.2",
   "language": "python",
   "name": "python3"
  },
  "language_info": {
   "codemirror_mode": {
    "name": "ipython",
    "version": 3
   },
   "file_extension": ".py",
   "mimetype": "text/x-python",
   "name": "python",
   "nbconvert_exporter": "python",
   "pygments_lexer": "ipython3",
   "version": "3.9.12"
  }
 },
 "nbformat": 4,
 "nbformat_minor": 2
}
